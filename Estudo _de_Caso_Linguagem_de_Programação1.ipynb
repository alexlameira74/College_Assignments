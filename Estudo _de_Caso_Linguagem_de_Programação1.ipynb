{
  "nbformat": 4,
  "nbformat_minor": 0,
  "metadata": {
    "colab": {
      "name": "Untitled5.ipynb",
      "provenance": [],
      "authorship_tag": "ABX9TyNI95seYF/hj5YSwo7suHL5",
      "include_colab_link": true
    },
    "kernelspec": {
      "name": "python3",
      "display_name": "Python 3"
    },
    "language_info": {
      "name": "python"
    }
  },
  "cells": [
    {
      "cell_type": "markdown",
      "metadata": {
        "id": "view-in-github",
        "colab_type": "text"
      },
      "source": [
        "<a href=\"https://colab.research.google.com/github/alexlameira74/College_Assignments/blob/main/Estudo%20_de_Caso_Linguagem_de_Programa%C3%A7%C3%A3o1.ipynb\" target=\"_parent\"><img src=\"https://colab.research.google.com/assets/colab-badge.svg\" alt=\"Open In Colab\"/></a>"
      ]
    },
    {
      "cell_type": "code",
      "execution_count": null,
      "metadata": {
        "id": "kicKBRMF18Qp"
      },
      "outputs": [],
      "source": [
        "nome  = input(\"digite seu nome de aluno   \")\n",
        "matrícula  = int(input(\"digite a sua matrícula   \"))\n",
        "nota1  = float(input(\"digite a nota do 1º bimestre   \"))\n",
        "nota2  = float(input(\"digite a nota do 2º bimestre   \"))\n",
        "nota3  = float(input(\"digite a nota do 3º bimestre   \"))\n",
        "nota4  = float(input(\"digite a nota do 4º bimestre   \"))\n",
        "média  = (nota1 + nota2 + nota3 + nota4)/4 \n",
        "print(\"sua média é \", média)\n",
        "if média>=7: \n",
        "  print(\" Parabêns, você foi APROVADO!\")\n",
        "if (média>=3) and (média<7): \n",
        "  print(\" Você está de RECUPERAÇÃO!\")\n",
        "if média>=7: \n",
        "  print(\" Você está REPROVADO!\")"
      ]
    }
  ]
}