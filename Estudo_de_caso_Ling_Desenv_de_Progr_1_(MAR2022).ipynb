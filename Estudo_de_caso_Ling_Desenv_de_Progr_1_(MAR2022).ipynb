{
  "nbformat": 4,
  "nbformat_minor": 0,
  "metadata": {
    "colab": {
      "name": "Estudo de caso Ling Desenv de Progr#1 (MAR2022).ipynb",
      "provenance": []
    },
    "kernelspec": {
      "name": "python3",
      "display_name": "Python 3"
    },
    "language_info": {
      "name": "python"
    }
  },
  "cells": [
    {
      "cell_type": "code",
      "execution_count": null,
      "metadata": {
        "id": "T0UxtYCFbZEp"
      },
      "outputs": [],
      "source": [
        "\n",
        " #Cálculo de média de notas com status de aprovado, não aprovado e recuperação\n",
        " \n",
        "nome = input(\"Nome do aluno...\")\n",
        "matricula =  int(input(\"informe sua matrícula...\"))\n",
        "nota1 = float(input(' entre com a nota do 1º Semestre...'))\n",
        "nota2 = float(input(' entre com a nota do 2º Semestre...'))\n",
        "nota3 = float(input(' entre com a nota do 3º Semestre...'))\n",
        "nota4 = float(input(' entre com a nota do 4º Semestre...'))\n",
        "\n",
        "media = (nota1+nota2+nota3+nota4)/4\n",
        "print(\" sua média é\",media)\n",
        "    \n",
        "if media >7:\n",
        "  print(\"Você está aprovado\")\n",
        "\n",
        "if (media>=3) and (media<=7):\n",
        "  print('Você está em recuperação')\n",
        "\n",
        "if (media<3):\n",
        "  print('Você está reprovado')  "
      ]
    }
  ]
}